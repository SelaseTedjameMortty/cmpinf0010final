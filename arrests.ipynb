{
 "cells": [
  {
   "cell_type": "code",
   "execution_count": 16,
   "id": "divided-dutch",
   "metadata": {},
   "outputs": [
    {
     "name": "stdout",
     "output_type": "stream",
     "text": [
      "                 Neighborhood  Arrests Per 1000 People\n",
      "0           Central Northside                    7.953\n",
      "1         Squirrel Hill North                   17.202\n",
      "2               Regent Square                   22.265\n",
      "3              Swisshelm Park                   22.305\n",
      "4               New Homestead                   27.749\n",
      "..                        ...                      ...\n",
      "78  Central Business District                  705.911\n",
      "79             East Allegheny                  750.835\n",
      "80                North Shore                 2721.951\n",
      "81                South Shore                17333.333\n",
      "82                    Chateau               108000.000\n",
      "\n",
      "[83 rows x 2 columns]\n",
      "{'Central Northside': 83, 'Squirrel Hill North': 82, 'Regent Square': 81, 'Swisshelm Park': 80, 'New Homestead': 79, 'North Oakland': 78, 'Stanton Heights': 77, 'Squirrel Hill South': 76, 'Lincoln Place': 75, 'Morningside': 74, 'Point Breeze': 73, 'Greenfield': 72, 'Summer Hill': 71, 'Chartiers City': 70, 'Shadyside': 69, 'Banksville': 68, 'Oakwood': 67, 'Duquesne Heights': 66, 'Overbrook': 65, 'Highland Park': 64, 'East Carnegie': 63, 'Central Oakland': 62, 'Fairywood': 61, 'Friendship': 60, 'Central Lawrenceville': 59, 'Brookline': 58, 'Lower Lawrenceville': 57, 'Ridgemont': 56, 'Terrace Village': 55, 'Bloomfield': 54, 'South Oakland': 53, 'Polish Hill': 52, 'Crafton Heights': 51, 'Brighton Heights': 50, 'Beechview': 49, 'Arlington': 48, 'Point Breeze North': 47, 'Mount Washington': 46, 'South Side Slopes': 45, 'Perry North': 44, 'Garfield': 43, 'St. Clair': 42, 'Troy Hill': 41, 'Glen Hazel': 40, 'Sheraden': 39, 'Carrick': 38, 'Bluff': 37, 'Marshall-Shadeland': 36, 'Lincoln-Lemington-Belmar': 35, 'Elliott': 34, 'Bon Air': 33, 'Manchester': 32, 'Hays': 31, 'Spring Garden': 30, 'Spring Hill-City View': 29, 'Hazelwood': 28, 'Beltzhoover': 27, 'Knoxville': 26, 'Perry South': 25, 'East Liberty': 24, 'California-Kirkbride': 23, 'Allegheny West': 22, 'Allentown': 21, 'Crawford-Roberts': 20, 'East Hills': 19, 'Bedford Dwellings': 18, 'Northview Heights': 17, 'Larimer': 16, 'South Side Flats': 15, 'Middle Hill': 14, 'Arlington Heights': 13, 'Homewood North': 12, 'Esplen': 11, 'Strip District': 10, 'Fineview': 9, 'Allegheny Center': 8, 'Homewood West': 7, 'Homewood South': 6, 'Central Business District': 5, 'East Allegheny': 4, 'North Shore': 3, 'South Shore': 2, 'Chateau': 1}\n"
     ]
    }
   ],
   "source": [
    "import pandas as pd\n",
    "import numpy as np\n",
    "import matplotlib.pyplot as plt\n",
    "from collections import OrderedDict\n",
    "def seqSearch(name, popNames):\n",
    "    for i in range(0,len(popNames)):\n",
    "        if name == popNames[i]:\n",
    "            return i\n",
    "    return -1\n",
    "arrests = pd.read_csv('arrests.csv')\n",
    "pop = pd.read_csv('total-population.csv')[['Neighborhood','Estimate; Total']]#.groupby('Neighborhood').max()\n",
    "popNums=pop['Estimate; Total'].to_list()\n",
    "popNames=pop['Neighborhood'].to_list()\n",
    "#print(popNums)\n",
    "arrests=arrests.groupby('INCIDENTNEIGHBORHOOD').size()\n",
    "arrestsdict=arrests.to_dict()\n",
    "arrNums = list(arrestsdict.values())\n",
    "arrNames = list(arrestsdict.keys())\n",
    "perCapita=[]\n",
    "perNames=[]\n",
    "#print(arrNames)\n",
    "#population adjusting\n",
    "count = 0\n",
    "for i in range(0,len(popNames)):\n",
    "    index = seqSearch(arrNames[i], popNames)\n",
    "    if index != -1:\n",
    "        #print(\"Neighborhood: \" + arrNames[i]+ \" arrests: \" + str(arrNums[i]) + \" pop: \" + str(popNums[index]))\n",
    "        perCapita.append(arrNums[i]/popNums[index])\n",
    "        perNames.append(arrNames[i])\n",
    "        perCapita[count]*=1000\n",
    "        perCapita[count] = round(perCapita[count], 3)\n",
    "        count+=1\n",
    "#print(perCapita)\n",
    "perCapDict={}\n",
    "for i in range(0, len(perCapita)):\n",
    "    perCapDict[perNames[i]]=perCapita[i]\n",
    "#print(perCapDict)\n",
    "perCapDict=OrderedDict(sorted(perCapDict.items(), key=lambda x: x[1]))\n",
    "arrestFrame = pd.DataFrame(list(perCapDict.items()),columns = ['Neighborhood','Arrests Per 1000 People'])\n",
    "perCapNames=list(perCapDict.keys())\n",
    "safetyScoreDict={}\n",
    "for i in range(0, len(perCapita)):\n",
    "    safetyScoreDict[perCapNames[i]]=len(perCapita)-i\n",
    "#print(perCapDict)\n",
    "#print(arrNums)\n",
    "print(arrestFrame)\n",
    "print(safetyScoreDict)"
   ]
  },
  {
   "cell_type": "code",
   "execution_count": 17,
   "id": "reflected-picking",
   "metadata": {},
   "outputs": [
    {
     "data": {
      "text/plain": [
       "76"
      ]
     },
     "execution_count": 17,
     "metadata": {},
     "output_type": "execute_result"
    },
    {
     "data": {
      "image/png": "[encoded data removed]",
      "text/plain": [
       "<Figure size 432x288 with 1 Axes>"
      ]
     },
     "metadata": {
      "needs_background": "light"
     },
     "output_type": "display_data"
    }
   ],
   "source": [
    "arrestFrame.head(10).plot.bar()\n",
    "seqSearch(arrNames[i], popNames)"
   ]
  },
  {
   "cell_type": "code",
   "execution_count": 43,
   "id": "southeast-ghana",
   "metadata": {},
   "outputs": [
    {
     "name": "stdout",
     "output_type": "stream",
     "text": [
      "{'Bluff': 91, 'Northview Heights': 90, 'Glen Hazel': 89, 'Terrace Village': 88, 'Bedford Dwellings': 87, 'Arlington Heights': 86, 'West Oakland': 85, 'Central Oakland': 84, 'Larimer': 83, 'Marshall-Shadeland': 82, 'Homewood North': 81, 'North Oakland': 80, 'Homewood South': 79, 'Homewood West': 78, 'California-Kirkbride': 77, 'Knoxville': 76, 'St. Clair': 75, 'East Hills': 74, 'Allentown': 73, 'Crawford-Roberts': 72, 'West End': 71, 'Middle Hill': 70, 'Hays': 69, 'Perry South': 68, 'South Oakland': 67, 'Beltzhoover': 66, 'Garfield': 65, 'Elliott': 64, 'Esplen': 63, 'Sheraden': 62, 'Hazelwood': 61, 'Mount Oliver Borough': 60, 'Lincoln-Lemington-Belmar': 59, 'Spring Garden': 58, 'Spring Hill-City View': 57, 'Arlington': 56, 'Fineview': 55, 'East Liberty': 54, 'Upper Hill': 53, 'Carrick': 52, 'Crafton Heights': 51, 'Windgap': 50, 'Mt. Oliver': 49, 'Oakwood': 48, 'Upper Lawrenceville': 47, 'Beechview': 46, 'Bon Air': 45, 'Lincoln Place': 44, 'Overbrook': 43, 'East Carnegie': 42, 'Chartiers City': 41, 'Lower Lawrenceville': 40, 'Ridgemont': 39, 'Friendship': 38, 'Westwood': 37, 'East Allegheny': 36, 'Morningside': 35, 'South Side Slopes': 34, 'Brighton Heights': 33, 'Perry North': 32, 'New Homestead': 31, 'Brookline': 30, 'Manchester': 29, 'Stanton Heights': 28, 'Allegheny Center': 27, 'Fairywood': 26, 'Bloomfield': 25, 'Polish Hill': 24, 'Central Lawrenceville': 23, 'Mount Washington': 22, 'Greenfield': 21, 'Swisshelm Park': 20, 'Central Northside': 19, 'Summer Hill': 18, 'Troy Hill': 17, 'Point Breeze North': 16, 'Highland Park': 15, 'Banksville': 14, 'Duquesne Heights': 13, 'South Side Flats': 12, 'Squirrel Hill South': 11, 'Shadyside': 10, 'Regent Square': 9, 'Squirrel Hill North': 8, 'Central Business District': 7, 'Point Breeze': 6, 'North Shore': 5, 'Allegheny West': 4, 'Strip District': 3, 'South Shore': 2, 'Chateau': 1}\n"
     ]
    }
   ],
   "source": [
    "income = pd.read_csv('aggregate-household-income.csv')#[['Neighborhood','Aggregate household income in the past 12 months (in 2015 Inflation-adjusted dollars']]\n",
    "incomeNumsString=income['Estimate'].to_list()\n",
    "incomeNums=[]\n",
    "for num in incomeNumsString:\n",
    "    incomeNums.append(float(num))\n",
    "incomeNames=income['Neighborhood'].to_list()\n",
    "perCapita=[]\n",
    "perNames=[]\n",
    "income.sample(10)\n",
    "#population adjusting\n",
    "count = 0\n",
    "for i in range(0,len(popNames)):\n",
    "    index = seqSearch(incomeNames[i], popNames)\n",
    "    if index != -1:\n",
    "        #print(\"Neighborhood: \" + arrNames[i]+ \" arrests: \" + str(arrNums[i]) + \" pop: \" + str(popNums[index]))\n",
    "        perCapita.append(incomeNums[i]/popNums[index])\n",
    "        perNames.append(incomeNames[i])\n",
    "        count+=1\n",
    "#print(perCapita)\n",
    "perCapDict={}\n",
    "for i in range(0, len(perCapita)):\n",
    "    perCapDict[perNames[i]]=perCapita[i]\n",
    "#print(perCapDict)\n",
    "perCapDict=OrderedDict(sorted(perCapDict.items(), key=lambda x: x[1]))\n",
    "rentFrame = pd.DataFrame(list(perCapDict.items()),columns = ['Neighborhood','Average Household Income'])\n",
    "perCapNames=list(perCapDict.keys())\n",
    "rentScoreDict={}\n",
    "for i in range(0, len(perCapita)):\n",
    "    rentScoreDict[perCapNames[i]]=len(perCapita)-i\n",
    "print(rentScoreDict)"
   ]
  },
  {
   "cell_type": "code",
   "execution_count": null,
   "id": "medieval-angel",
   "metadata": {},
   "outputs": [],
   "source": []
  }
 ],
 "metadata": {
  "kernelspec": {
   "display_name": "Python 3",
   "language": "python",
   "name": "python3"
  },
  "language_info": {
   "codemirror_mode": {
    "name": "ipython",
    "version": 3
   },
   "file_extension": ".py",
   "mimetype": "text/x-python",
   "name": "python",
   "nbconvert_exporter": "python",
   "pygments_lexer": "ipython3",
   "version": "3.8.2"
  }
 },
 "nbformat": 4,
 "nbformat_minor": 5
}
