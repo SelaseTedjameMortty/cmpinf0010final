{
 "cells": [
  {
   "cell_type": "code",
   "execution_count": 63,
   "id": "empty-leone",
   "metadata": {},
   "outputs": [
    {
     "name": "stdout",
     "output_type": "stream",
     "text": [
      "{'Estimate; Total': Neighborhood\n",
      "Allegheny Center       1411.0\n",
      "Allegheny West          343.0\n",
      "Allentown              2558.0\n",
      "Arlington              1852.0\n",
      "Arlington Heights       272.0\n",
      "                        ...  \n",
      "Upper Lawrenceville    2754.0\n",
      "West End                235.0\n",
      "West Oakland           1717.0\n",
      "Westwood               3537.0\n",
      "Windgap                1534.0\n",
      "Name: Estimate; Total, Length: 91, dtype: float64}\n"
     ]
    }
   ],
   "source": [
    "import pandas as pd\n",
    "import numpy as np\n",
    "\n",
    "arrests = pd.read_csv('arrests.csv')\n",
    "pop = pd.read_csv('total-population.csv')[['Neighborhood','Estimate; Total']].groupby('Neighborhood').sum()\n",
    "popdict=pop.to_dict(orient='series')\n",
    "print(popdict)\n",
    "arrests=arrests.groupby('INCIDENTNEIGHBORHOOD').size()\n",
    "arrestsdict=arrests.to_dict()\n",
    "\n",
    "#print(arrestsdict)"
   ]
  }
 ],
 "metadata": {
  "kernelspec": {
   "display_name": "Python 3",
   "language": "python",
   "name": "python3"
  },
  "language_info": {
   "codemirror_mode": {
    "name": "ipython",
    "version": 3
   },
   "file_extension": ".py",
   "mimetype": "text/x-python",
   "name": "python",
   "nbconvert_exporter": "python",
   "pygments_lexer": "ipython3",
   "version": "3.8.2"
  }
 },
 "nbformat": 4,
 "nbformat_minor": 5
}
