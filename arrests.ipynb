{
 "cells": [
  {
   "cell_type": "code",
   "execution_count": 47,
   "id": "weekly-platinum",
   "metadata": {},
   "outputs": [
    {
     "name": "stdout",
     "output_type": "stream",
     "text": [
      "{'Allegheny Center': 611.623, 'Allegheny West': 265.306, 'Allentown': 268.178, 'Arlington': 112.851, 'Arlington Heights': 408.088, 'Banksville': 52.877, 'Bedford Dwellings': 338.028, 'Beechview': 111.785, 'Beltzhoover': 223.267, 'Bloomfield': 82.939, 'Bluff': 168.414, 'Bon Air': 188.043, 'Brighton Heights': 109.554, 'Brookline': 70.289, 'California-Kirkbride': 262.765, 'Carrick': 166.667, 'Central Business District': 705.911, 'Central Lawrenceville': 69.738, 'Central North Side': 225.45, 'Central Northside': 3.951, 'Central Oakland': 694.643, 'Chartiers City': 9333.333, 'Chateau': 81.736, 'Crafton Heights': 176.18, 'Crawford-Roberts': 239.492, 'Duquesne Heights': 66.826, 'East Allegheny': 2578.689, 'East Carnegie': 13.291, 'East Hills': 141.954, 'East Liberty': 523.485, 'Elliott': 1485.437, 'Esplen': 118.544, 'Fairywood': 63.78, 'Fineview': 357.065, 'Friendship': 32.022, 'Garfield': 730.447, 'Glen Hazel': 13.524, 'Golden Triangle/Civic Arena': 204.938, 'Greenfield': 83.862, 'Hays': 11.454, 'Hazelwood': 280.036, 'Highland Park': 185.852, 'Homewood North': 1641.176, 'Homewood South': 362.397, 'Homewood West': 345.521, 'Knoxville': 276.936, 'Larimer': 118.264, 'Lincoln Place': 52.877, 'Lincoln-Lemington-Belmar': 467.593, 'Lower Lawrenceville': 30.67, 'Manchester': 210.227, 'Marshall-Shadeland': 335.99, 'Middle Hill': 205.649, 'Morningside': 16.242, 'Mount Oliver': 167.224, 'Mount Washington': 1056.526, 'Mt. Oliver Boro': 1.77, 'Mt. Oliver Neighborhood': 9.756, 'New Homestead': 17.476, 'North Oakland': 289.225, 'North Shore': 151.548, 'Northview Heights': 138.69, 'Oakwood': 16.48, 'Outside City': 40.82, 'Outside County': 24.249, 'Outside State': 36.063, 'Overbrook': 201.355, 'Perry North': 1566.879, 'Perry South': 58.693, 'Point Breeze': 43.807, 'Point Breeze North': 68.47, 'Polish Hill': 9583.333, 'Regent Square': 3.655, 'Ridgemont': 5.673, 'Shadyside': 848.81, 'Sheraden': 363.192, 'South Oakland': 21.524, 'South Shore': 12.966, 'South Side Flats': 8925.926, 'South Side Slopes': 124.764, 'Spring Garden': 239.625, 'Spring Hill-City View': 454.24, 'Squirrel Hill North': 144.981, 'Squirrel Hill South': 255.672, 'St. Clair': 15.769, 'Stanton Heights': 90.764, 'Strip District': 127.088, 'Summer Hill': 251.064, 'Swisshelm Park': 17.472, 'Terrace Village': 53.718, 'Troy Hill': 201.434}\n"
     ]
    }
   ],
   "source": [
    "import pandas as pd\n",
    "import numpy as np\n",
    "\n",
    "arrests = pd.read_csv('arrests.csv')\n",
    "pop = pd.read_csv('total-population.csv')[['Estimate; Total']]#.groupby('Neighborhood').max()\n",
    "popNums=pop['Estimate; Total'].to_list()\n",
    "#print(popNums)\n",
    "arrests=arrests.groupby('INCIDENTNEIGHBORHOOD').size()\n",
    "arrestsdict=arrests.to_dict()\n",
    "arrNums = list(arrestsdict.values())\n",
    "arrNames = list(arrestsdict.keys())\n",
    "perCapita=[]\n",
    "#population adjusting\n",
    "for i in range(0,len(popNums)):\n",
    "    perCapita.append(arrNums[i]/popNums[i])\n",
    "    perCapita[i]*=1000\n",
    "    perCapita[i] = round(perCapita[i], 3)\n",
    "#rint(perCapita)\n",
    "perCapDict={}\n",
    "for i in range(0, len(popNums)):\n",
    "    perCapDict[arrNames[i]]=perCapita[i]\n",
    "print(perCapDict)\n",
    "#print(arrNums)\n",
    "#print(arrNames)\n",
    "#print(arrestsdict)"
   ]
  }
 ],
 "metadata": {
  "kernelspec": {
   "display_name": "Python 3",
   "language": "python",
   "name": "python3"
  },
  "language_info": {
   "codemirror_mode": {
    "name": "ipython",
    "version": 3
   },
   "file_extension": ".py",
   "mimetype": "text/x-python",
   "name": "python",
   "nbconvert_exporter": "python",
   "pygments_lexer": "ipython3",
   "version": "3.8.2"
  }
 },
 "nbformat": 4,
 "nbformat_minor": 5
}
