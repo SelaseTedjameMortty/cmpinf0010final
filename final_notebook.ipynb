{
 "cells": [
  {
   "cell_type": "markdown",
   "id": "difficult-experience",
   "metadata": {},
   "source": [
    "### Intro\n",
    "We chose to analyze the \"bestness\" of Pittsburgh neighborhoods based on the metric of safety. Our first data set was based on the arrest data of the Pittsburgh area. The selected dataset provided quantitative information such as age, date, and time, as well as categorical data such as race, gender, and descriptions of the infractions. Our other dataset was of the fire incidents in the Pittsburgh area. This dataset provided quantitative data such as the date, time, and number of alarms, as well as the categorical data of the fire type description.\n",
    "\n",
    "### Metric\n",
    "As previously mentioned we defined our metric to be safety in regards to crime rates and incidents of fire. We believe fire is an indicator of safety because it can provide a lot of inferred data on the quality and maintenance of housing in the area as well as potential environmental threats. In terms of crime rates, we believe that knowing the amounts of arrests in a given area, especially in regards to population, is indicative on the general safety of the community."
   ]
  },
  {
   "cell_type": "code",
   "execution_count": 12,
   "id": "united-aircraft",
   "metadata": {},
   "outputs": [],
   "source": [
    "import pandas as pd\n",
    "import numpy as np\n",
    "import matplotlib.pyplot as plt\n",
    "from collections import OrderedDict\n",
    "def seqSearch(name, popNames):\n",
    "    for i in range(0,len(popNames)):\n",
    "        if name == popNames[i]:\n",
    "            return i\n",
    "    return -1\n",
    "arrests = pd.read_csv('arrests.csv')\n",
    "pop = pd.read_csv('total-population.csv')[['Neighborhood','Estimate; Total']]#.groupby('Neighborhood').max()\n",
    "popNums=pop['Estimate; Total'].to_list()\n",
    "popNames=pop['Neighborhood'].to_list()\n",
    "arrests=arrests.groupby('INCIDENTNEIGHBORHOOD').size()\n",
    "arrestsdict=arrests.to_dict()\n",
    "arrNums = list(arrestsdict.values())\n",
    "arrNames = list(arrestsdict.keys())\n",
    "perCapita=[]\n",
    "perNames=[]\n",
    "\n",
    "#population adjusting\n",
    "count = 0\n",
    "for i in range(0,len(popNames)):\n",
    "    index = seqSearch(arrNames[i], popNames)\n",
    "    if index != -1:\n",
    "        perCapita.append(arrNums[i]/popNums[index])\n",
    "        perNames.append(arrNames[i])\n",
    "        perCapita[count]*=1000\n",
    "        perCapita[count] = round(perCapita[count], 3)\n",
    "        count+=1\n",
    "perCapDict={}\n",
    "for i in range(0, len(perCapita)):\n",
    "    perCapDict[perNames[i]]=perCapita[i]\n",
    "perCapDict=OrderedDict(sorted(perCapDict.items(), key=lambda x: x[1]))\n",
    "arrestFrame = pd.DataFrame(list(perCapDict.items()),columns = ['Neighborhood','Arrests Per 1000 People'])\n",
    "arrestFramed = arrestFrame.groupby('Neighborhood').max().sort_values('Arrests Per 1000 People',ascending=True)\n",
    "perCapNames=list(perCapDict.keys())\n",
    "safetyScoreDict={}\n",
    "for i in range(0, len(perCapita)):\n",
    "    safetyScoreDict[perCapNames[i]]=len(perCapita)-i\n",
    "\n",
    "\n",
    "income = pd.read_csv('aggregate-household-income.csv')#[['Neighborhood','Aggregate household income in the past 12 months (in 2015 Inflation-adjusted dollars']]\n",
    "incomeNumsString=income['Estimate'].to_list()\n",
    "incomeNums=[]\n",
    "for num in incomeNumsString:\n",
    "    incomeNums.append(float(num))\n",
    "incomeNames=income['Neighborhood'].to_list()\n",
    "perCapita=[]\n",
    "perNames=[]\n",
    "#population adjusting\n",
    "count = 0\n",
    "for i in range(0,len(popNames)):\n",
    "    index = seqSearch(incomeNames[i], popNames)\n",
    "    if index != -1:\n",
    "        perCapita.append(float(int(incomeNums[i]/popNums[index])))\n",
    "        perNames.append(incomeNames[i])\n",
    "        count+=1\n",
    "perCapDict={}\n",
    "\n",
    "for i in range(0, len(perCapita)):\n",
    "    perCapDict[perNames[i]]=perCapita[i]\n",
    "perCapDict=OrderedDict(sorted(perCapDict.items(), key=lambda x: x[1]))\n",
    "rentFrame = pd.DataFrame(list(perCapDict.items()),columns = ['Neighborhood','Average Household Income'])\n",
    "perCapNames=list(perCapDict.keys())\n",
    "rentScoreDict={}\n",
    "for i in range(0, len(perCapita)):\n",
    "    rentScoreDict[perCapNames[i]]=len(perCapita)-i\n",
    "\n",
    "fires = pd.read_csv('fire-incidents.csv')\n",
    "fires_by_neighborhood = fires.groupby('neighborhood').size().sort_values(ascending=False)\n",
    "\n",
    "firedict=fires_by_neighborhood.to_dict()\n",
    "fireNums = list(firedict.values())\n",
    "fireNames = list(firedict.keys())\n",
    "perCapita=[]\n",
    "perNames=[]\n",
    "#population adjusting\n",
    "count = 0\n",
    "for i in range(0,len(popNames)):\n",
    "    index = seqSearch(fireNames[i], popNames)\n",
    "    if index != -1:\n",
    "        perCapita.append(fireNums[i]/popNums[index])\n",
    "        perNames.append(fireNames[i])\n",
    "        perCapita[count]*=1000\n",
    "        perCapita[count] = round(perCapita[count], 3)\n",
    "        count+=1\n",
    "perCapDict={}\n",
    "for i in range(0, len(perCapita)):\n",
    "    perCapDict[perNames[i]]=perCapita[i]\n",
    "perCapDict=OrderedDict(sorted(perCapDict.items(), key=lambda x: x[1]))\n",
    "fireFrame = pd.DataFrame(list(perCapDict.items()),columns = ['Neighborhood','Fires Per 1000 People'])\n",
    "fireFramed = fireFrame.groupby('Neighborhood').max().sort_values('Fires Per 1000 People',ascending=True)\n",
    "perCapNames=list(perCapDict.keys())\n",
    "for i in range(0, len(perCapita)):\n",
    "    if perCapNames[i] not in safetyScoreDict:\n",
    "        safetyScoreDict[perCapNames[i]]=len(perCapita)-i\n",
    "    else:\n",
    "        safetyScoreDict[perCapNames[i]]+=len(perCapita)-i\n",
    "\n",
    "\n",
    "for name in safetyScoreDict:\n",
    "    safetyScoreDict[name]/=2\n",
    "names=[]\n",
    "overallScoreDict={}\n",
    "for name in safetyScoreDict:\n",
    "    names.append(name)\n",
    "    if name not in rentScoreDict:\n",
    "        overallScoreDict[name]=safetyScoreDict[name]\n",
    "    else:\n",
    "        overallScoreDict[name]=safetyScoreDict[name]+rentScoreDict[name]\n",
    "\n",
    "safetyScoreDict=OrderedDict(sorted(safetyScoreDict.items(), key=lambda x: x[1]))\n",
    "safetyScore = pd.DataFrame(list(safetyScoreDict.items()),columns = ['Neighborhood','Safety Score'])\n",
    "safetyScore = safetyScore.groupby('Neighborhood').max().sort_values('Safety Score',ascending=False)\n",
    "\n",
    "rentScoreDict=OrderedDict(sorted(rentScoreDict.items(), key=lambda x: x[1]))\n",
    "affordScore = pd.DataFrame(list(rentScoreDict.items()),columns = ['Neighborhood','Affordability Score'])\n",
    "affordScore = affordScore.groupby('Neighborhood').max().sort_values('Affordability Score',ascending=False)\n",
    "\n",
    "overallScoreDict=OrderedDict(sorted(overallScoreDict.items(), key=lambda x: x[1]))\n",
    "overallScore = pd.DataFrame(list(overallScoreDict.items()),columns = ['Neighborhood','Overall Score'])\n",
    "overallScore = overallScore.groupby('Neighborhood').max().sort_values('Overall Score',ascending=False)"
   ]
  },
  {
   "cell_type": "code",
   "execution_count": 4,
   "id": "rubber-forum",
   "metadata": {},
   "outputs": [
    {
     "data": {
      "text/plain": [
       "<AxesSubplot:xlabel='Neighborhood'>"
      ]
     },
     "execution_count": 4,
     "metadata": {},
     "output_type": "execute_result"
    },
    {
     "data": {
      "image/png": "[encoded data removed]",
      "text/plain": [
       "<Figure size 432x288 with 1 Axes>"
      ]
     },
     "metadata": {
      "needs_background": "light"
     },
     "output_type": "display_data"
    }
   ],
   "source": [
    "arrestFramed.head(10).plot.bar()"
   ]
  },
  {
   "cell_type": "code",
   "execution_count": 3,
   "id": "amended-large",
   "metadata": {},
   "outputs": [
    {
     "data": {
      "text/html": [
       "<div>\n",
       "<style scoped>\n",
       "    .dataframe tbody tr th:only-of-type {\n",
       "        vertical-align: middle;\n",
       "    }\n",
       "\n",
       "    .dataframe tbody tr th {\n",
       "        vertical-align: top;\n",
       "    }\n",
       "\n",
       "    .dataframe thead th {\n",
       "        text-align: right;\n",
       "    }\n",
       "</style>\n",
       "<table border=\"1\" class=\"dataframe\">\n",
       "  <thead>\n",
       "    <tr style=\"text-align: right;\">\n",
       "      <th></th>\n",
       "      <th>Arrests Per 1000 People</th>\n",
       "    </tr>\n",
       "    <tr>\n",
       "      <th>Neighborhood</th>\n",
       "      <th></th>\n",
       "    </tr>\n",
       "  </thead>\n",
       "  <tbody>\n",
       "    <tr>\n",
       "      <th>Strip District</th>\n",
       "      <td>468.541</td>\n",
       "    </tr>\n",
       "    <tr>\n",
       "      <th>Fineview</th>\n",
       "      <td>517.323</td>\n",
       "    </tr>\n",
       "    <tr>\n",
       "      <th>Allegheny Center</th>\n",
       "      <td>611.623</td>\n",
       "    </tr>\n",
       "    <tr>\n",
       "      <th>Homewood West</th>\n",
       "      <td>667.059</td>\n",
       "    </tr>\n",
       "    <tr>\n",
       "      <th>Homewood South</th>\n",
       "      <td>677.504</td>\n",
       "    </tr>\n",
       "    <tr>\n",
       "      <th>Central Business District</th>\n",
       "      <td>705.911</td>\n",
       "    </tr>\n",
       "    <tr>\n",
       "      <th>East Allegheny</th>\n",
       "      <td>750.835</td>\n",
       "    </tr>\n",
       "    <tr>\n",
       "      <th>North Shore</th>\n",
       "      <td>2721.951</td>\n",
       "    </tr>\n",
       "    <tr>\n",
       "      <th>South Shore</th>\n",
       "      <td>17333.333</td>\n",
       "    </tr>\n",
       "    <tr>\n",
       "      <th>Chateau</th>\n",
       "      <td>108000.000</td>\n",
       "    </tr>\n",
       "  </tbody>\n",
       "</table>\n",
       "</div>"
      ],
      "text/plain": [
       "                           Arrests Per 1000 People\n",
       "Neighborhood                                      \n",
       "Strip District                             468.541\n",
       "Fineview                                   517.323\n",
       "Allegheny Center                           611.623\n",
       "Homewood West                              667.059\n",
       "Homewood South                             677.504\n",
       "Central Business District                  705.911\n",
       "East Allegheny                             750.835\n",
       "North Shore                               2721.951\n",
       "South Shore                              17333.333\n",
       "Chateau                                 108000.000"
      ]
     },
     "execution_count": 3,
     "metadata": {},
     "output_type": "execute_result"
    }
   ],
   "source": [
    "arrestFramed.tail(10)"
   ]
  },
  {
   "cell_type": "code",
   "execution_count": 5,
   "id": "advised-terrace",
   "metadata": {},
   "outputs": [
    {
     "data": {
      "text/plain": [
       "<AxesSubplot:xlabel='Neighborhood'>"
      ]
     },
     "execution_count": 5,
     "metadata": {},
     "output_type": "execute_result"
    },
    {
     "data": {
      "image/png": "[encoded data removed]",
      "text/plain": [
       "<Figure size 432x288 with 1 Axes>"
      ]
     },
     "metadata": {
      "needs_background": "light"
     },
     "output_type": "display_data"
    }
   ],
   "source": [
    "fireFramed.head(10).plot.bar()"
   ]
  },
  {
   "cell_type": "code",
   "execution_count": 7,
   "id": "amazing-asbestos",
   "metadata": {},
   "outputs": [
    {
     "data": {
      "text/html": [
       "<div>\n",
       "<style scoped>\n",
       "    .dataframe tbody tr th:only-of-type {\n",
       "        vertical-align: middle;\n",
       "    }\n",
       "\n",
       "    .dataframe tbody tr th {\n",
       "        vertical-align: top;\n",
       "    }\n",
       "\n",
       "    .dataframe thead th {\n",
       "        text-align: right;\n",
       "    }\n",
       "</style>\n",
       "<table border=\"1\" class=\"dataframe\">\n",
       "  <thead>\n",
       "    <tr style=\"text-align: right;\">\n",
       "      <th></th>\n",
       "      <th>Fires Per 1000 People</th>\n",
       "    </tr>\n",
       "    <tr>\n",
       "      <th>Neighborhood</th>\n",
       "      <th></th>\n",
       "    </tr>\n",
       "  </thead>\n",
       "  <tbody>\n",
       "    <tr>\n",
       "      <th>Esplen</th>\n",
       "      <td>58.252</td>\n",
       "    </tr>\n",
       "    <tr>\n",
       "      <th>Strip District</th>\n",
       "      <td>60.241</td>\n",
       "    </tr>\n",
       "    <tr>\n",
       "      <th>Beltzhoover</th>\n",
       "      <td>64.042</td>\n",
       "    </tr>\n",
       "    <tr>\n",
       "      <th>Homewood South</th>\n",
       "      <td>67.223</td>\n",
       "    </tr>\n",
       "    <tr>\n",
       "      <th>Larimer</th>\n",
       "      <td>69.470</td>\n",
       "    </tr>\n",
       "    <tr>\n",
       "      <th>West End</th>\n",
       "      <td>72.340</td>\n",
       "    </tr>\n",
       "    <tr>\n",
       "      <th>Allegheny West</th>\n",
       "      <td>102.041</td>\n",
       "    </tr>\n",
       "    <tr>\n",
       "      <th>North Shore</th>\n",
       "      <td>263.415</td>\n",
       "    </tr>\n",
       "    <tr>\n",
       "      <th>South Shore</th>\n",
       "      <td>1583.333</td>\n",
       "    </tr>\n",
       "    <tr>\n",
       "      <th>Chateau</th>\n",
       "      <td>12000.000</td>\n",
       "    </tr>\n",
       "  </tbody>\n",
       "</table>\n",
       "</div>"
      ],
      "text/plain": [
       "                Fires Per 1000 People\n",
       "Neighborhood                         \n",
       "Esplen                         58.252\n",
       "Strip District                 60.241\n",
       "Beltzhoover                    64.042\n",
       "Homewood South                 67.223\n",
       "Larimer                        69.470\n",
       "West End                       72.340\n",
       "Allegheny West                102.041\n",
       "North Shore                   263.415\n",
       "South Shore                  1583.333\n",
       "Chateau                     12000.000"
      ]
     },
     "execution_count": 7,
     "metadata": {},
     "output_type": "execute_result"
    }
   ],
   "source": [
    "fireFramed.tail(10)"
   ]
  },
  {
   "cell_type": "code",
   "execution_count": 18,
   "id": "incomplete-delivery",
   "metadata": {},
   "outputs": [
    {
     "data": {
      "text/html": [
       "<div>\n",
       "<style scoped>\n",
       "    .dataframe tbody tr th:only-of-type {\n",
       "        vertical-align: middle;\n",
       "    }\n",
       "\n",
       "    .dataframe tbody tr th {\n",
       "        vertical-align: top;\n",
       "    }\n",
       "\n",
       "    .dataframe thead th {\n",
       "        text-align: right;\n",
       "    }\n",
       "</style>\n",
       "<table border=\"1\" class=\"dataframe\">\n",
       "  <thead>\n",
       "    <tr style=\"text-align: right;\">\n",
       "      <th></th>\n",
       "      <th>Safety Score</th>\n",
       "    </tr>\n",
       "    <tr>\n",
       "      <th>Neighborhood</th>\n",
       "      <th></th>\n",
       "    </tr>\n",
       "  </thead>\n",
       "  <tbody>\n",
       "    <tr>\n",
       "      <th>Regent Square</th>\n",
       "      <td>85.5</td>\n",
       "    </tr>\n",
       "    <tr>\n",
       "      <th>Squirrel Hill North</th>\n",
       "      <td>84.5</td>\n",
       "    </tr>\n",
       "    <tr>\n",
       "      <th>Morningside</th>\n",
       "      <td>81.0</td>\n",
       "    </tr>\n",
       "    <tr>\n",
       "      <th>Stanton Heights</th>\n",
       "      <td>80.5</td>\n",
       "    </tr>\n",
       "    <tr>\n",
       "      <th>Swisshelm Park</th>\n",
       "      <td>80.0</td>\n",
       "    </tr>\n",
       "    <tr>\n",
       "      <th>North Oakland</th>\n",
       "      <td>80.0</td>\n",
       "    </tr>\n",
       "    <tr>\n",
       "      <th>Shadyside</th>\n",
       "      <td>76.0</td>\n",
       "    </tr>\n",
       "    <tr>\n",
       "      <th>Point Breeze</th>\n",
       "      <td>75.5</td>\n",
       "    </tr>\n",
       "    <tr>\n",
       "      <th>Greenfield</th>\n",
       "      <td>75.5</td>\n",
       "    </tr>\n",
       "    <tr>\n",
       "      <th>Highland Park</th>\n",
       "      <td>75.0</td>\n",
       "    </tr>\n",
       "  </tbody>\n",
       "</table>\n",
       "</div>"
      ],
      "text/plain": [
       "                     Safety Score\n",
       "Neighborhood                     \n",
       "Regent Square                85.5\n",
       "Squirrel Hill North          84.5\n",
       "Morningside                  81.0\n",
       "Stanton Heights              80.5\n",
       "Swisshelm Park               80.0\n",
       "North Oakland                80.0\n",
       "Shadyside                    76.0\n",
       "Point Breeze                 75.5\n",
       "Greenfield                   75.5\n",
       "Highland Park                75.0"
      ]
     },
     "execution_count": 18,
     "metadata": {},
     "output_type": "execute_result"
    }
   ],
   "source": [
    "safetyScore.head(10)"
   ]
  },
  {
   "cell_type": "code",
   "execution_count": 10,
   "id": "religious-server",
   "metadata": {},
   "outputs": [
    {
     "data": {
      "text/plain": [
       "<AxesSubplot:xlabel='Neighborhood'>"
      ]
     },
     "execution_count": 10,
     "metadata": {},
     "output_type": "execute_result"
    },
    {
     "data": {
      "image/png": "[encoded data removed]",
      "text/plain": [
       "<Figure size 432x288 with 1 Axes>"
      ]
     },
     "metadata": {
      "needs_background": "light"
     },
     "output_type": "display_data"
    }
   ],
   "source": [
    "safetyScore.tail(10).plot.bar()"
   ]
  },
  {
   "cell_type": "code",
   "execution_count": 14,
   "id": "original-textbook",
   "metadata": {},
   "outputs": [
    {
     "data": {
      "text/html": [
       "<div>\n",
       "<style scoped>\n",
       "    .dataframe tbody tr th:only-of-type {\n",
       "        vertical-align: middle;\n",
       "    }\n",
       "\n",
       "    .dataframe tbody tr th {\n",
       "        vertical-align: top;\n",
       "    }\n",
       "\n",
       "    .dataframe thead th {\n",
       "        text-align: right;\n",
       "    }\n",
       "</style>\n",
       "<table border=\"1\" class=\"dataframe\">\n",
       "  <thead>\n",
       "    <tr style=\"text-align: right;\">\n",
       "      <th></th>\n",
       "      <th>Affordability Score</th>\n",
       "    </tr>\n",
       "    <tr>\n",
       "      <th>Neighborhood</th>\n",
       "      <th></th>\n",
       "    </tr>\n",
       "  </thead>\n",
       "  <tbody>\n",
       "    <tr>\n",
       "      <th>Bluff</th>\n",
       "      <td>91</td>\n",
       "    </tr>\n",
       "    <tr>\n",
       "      <th>Northview Heights</th>\n",
       "      <td>90</td>\n",
       "    </tr>\n",
       "    <tr>\n",
       "      <th>Glen Hazel</th>\n",
       "      <td>89</td>\n",
       "    </tr>\n",
       "    <tr>\n",
       "      <th>Terrace Village</th>\n",
       "      <td>88</td>\n",
       "    </tr>\n",
       "    <tr>\n",
       "      <th>Bedford Dwellings</th>\n",
       "      <td>87</td>\n",
       "    </tr>\n",
       "    <tr>\n",
       "      <th>Arlington Heights</th>\n",
       "      <td>86</td>\n",
       "    </tr>\n",
       "    <tr>\n",
       "      <th>West Oakland</th>\n",
       "      <td>85</td>\n",
       "    </tr>\n",
       "    <tr>\n",
       "      <th>Central Oakland</th>\n",
       "      <td>84</td>\n",
       "    </tr>\n",
       "    <tr>\n",
       "      <th>Larimer</th>\n",
       "      <td>83</td>\n",
       "    </tr>\n",
       "    <tr>\n",
       "      <th>Marshall-Shadeland</th>\n",
       "      <td>82</td>\n",
       "    </tr>\n",
       "  </tbody>\n",
       "</table>\n",
       "</div>"
      ],
      "text/plain": [
       "                    Affordability Score\n",
       "Neighborhood                           \n",
       "Bluff                                91\n",
       "Northview Heights                    90\n",
       "Glen Hazel                           89\n",
       "Terrace Village                      88\n",
       "Bedford Dwellings                    87\n",
       "Arlington Heights                    86\n",
       "West Oakland                         85\n",
       "Central Oakland                      84\n",
       "Larimer                              83\n",
       "Marshall-Shadeland                   82"
      ]
     },
     "execution_count": 14,
     "metadata": {},
     "output_type": "execute_result"
    }
   ],
   "source": [
    "affordScore.head(10)"
   ]
  },
  {
   "cell_type": "code",
   "execution_count": 15,
   "id": "correct-helmet",
   "metadata": {},
   "outputs": [
    {
     "data": {
      "text/html": [
       "<div>\n",
       "<style scoped>\n",
       "    .dataframe tbody tr th:only-of-type {\n",
       "        vertical-align: middle;\n",
       "    }\n",
       "\n",
       "    .dataframe tbody tr th {\n",
       "        vertical-align: top;\n",
       "    }\n",
       "\n",
       "    .dataframe thead th {\n",
       "        text-align: right;\n",
       "    }\n",
       "</style>\n",
       "<table border=\"1\" class=\"dataframe\">\n",
       "  <thead>\n",
       "    <tr style=\"text-align: right;\">\n",
       "      <th></th>\n",
       "      <th>Affordability Score</th>\n",
       "    </tr>\n",
       "    <tr>\n",
       "      <th>Neighborhood</th>\n",
       "      <th></th>\n",
       "    </tr>\n",
       "  </thead>\n",
       "  <tbody>\n",
       "    <tr>\n",
       "      <th>Shadyside</th>\n",
       "      <td>10</td>\n",
       "    </tr>\n",
       "    <tr>\n",
       "      <th>Regent Square</th>\n",
       "      <td>9</td>\n",
       "    </tr>\n",
       "    <tr>\n",
       "      <th>Squirrel Hill North</th>\n",
       "      <td>8</td>\n",
       "    </tr>\n",
       "    <tr>\n",
       "      <th>Central Business District</th>\n",
       "      <td>7</td>\n",
       "    </tr>\n",
       "    <tr>\n",
       "      <th>Point Breeze</th>\n",
       "      <td>6</td>\n",
       "    </tr>\n",
       "    <tr>\n",
       "      <th>North Shore</th>\n",
       "      <td>5</td>\n",
       "    </tr>\n",
       "    <tr>\n",
       "      <th>Allegheny West</th>\n",
       "      <td>4</td>\n",
       "    </tr>\n",
       "    <tr>\n",
       "      <th>Strip District</th>\n",
       "      <td>3</td>\n",
       "    </tr>\n",
       "    <tr>\n",
       "      <th>South Shore</th>\n",
       "      <td>2</td>\n",
       "    </tr>\n",
       "    <tr>\n",
       "      <th>Chateau</th>\n",
       "      <td>1</td>\n",
       "    </tr>\n",
       "  </tbody>\n",
       "</table>\n",
       "</div>"
      ],
      "text/plain": [
       "                           Affordability Score\n",
       "Neighborhood                                  \n",
       "Shadyside                                   10\n",
       "Regent Square                                9\n",
       "Squirrel Hill North                          8\n",
       "Central Business District                    7\n",
       "Point Breeze                                 6\n",
       "North Shore                                  5\n",
       "Allegheny West                               4\n",
       "Strip District                               3\n",
       "South Shore                                  2\n",
       "Chateau                                      1"
      ]
     },
     "execution_count": 15,
     "metadata": {},
     "output_type": "execute_result"
    }
   ],
   "source": [
    "affordScore.tail(10)"
   ]
  },
  {
   "cell_type": "code",
   "execution_count": 16,
   "id": "matched-champagne",
   "metadata": {},
   "outputs": [
    {
     "data": {
      "text/plain": [
       "<AxesSubplot:xlabel='Neighborhood'>"
      ]
     },
     "execution_count": 16,
     "metadata": {},
     "output_type": "execute_result"
    },
    {
     "data": {
      "image/png": "[encoded data removed]",
      "text/plain": [
       "<Figure size 432x288 with 1 Axes>"
      ]
     },
     "metadata": {
      "needs_background": "light"
     },
     "output_type": "display_data"
    }
   ],
   "source": [
    "overallScore.head(10).plot.bar()"
   ]
  },
  {
   "cell_type": "code",
   "execution_count": 17,
   "id": "metallic-marina",
   "metadata": {},
   "outputs": [
    {
     "data": {
      "text/plain": [
       "<AxesSubplot:xlabel='Neighborhood'>"
      ]
     },
     "execution_count": 17,
     "metadata": {},
     "output_type": "execute_result"
    },
    {
     "data": {
      "image/png": "[encoded data removed]",
      "text/plain": [
       "<Figure size 432x288 with 1 Axes>"
      ]
     },
     "metadata": {
      "needs_background": "light"
     },
     "output_type": "display_data"
    }
   ],
   "source": [
    "overallScore.tail(10).plot.bar()"
   ]
  },
  {
   "cell_type": "markdown",
   "id": "norman-bible",
   "metadata": {},
   "source": [
    "### Conclusion\n",
    "After analyzing our datasets we have come to the conclusion that North Oakland is the \"best\" neighborhood in Pittsburgh. Looking at the arrests data, Central Northside appeared to be the safest neighborhood in terms of having the least amount of arrests. In regards to the fire data, Regent Square appeared to be the safest neighborhood having the least amount of fire incidents. After combining our datasets we decided that North Oakland is the neighborhood that best satisfies our metric for \"bestness\"."
   ]
  }
 ],
 "metadata": {
  "kernelspec": {
   "display_name": "Python 3",
   "language": "python",
   "name": "python3"
  },
  "language_info": {
   "codemirror_mode": {
    "name": "ipython",
    "version": 3
   },
   "file_extension": ".py",
   "mimetype": "text/x-python",
   "name": "python",
   "nbconvert_exporter": "python",
   "pygments_lexer": "ipython3",
   "version": "3.8.2"
  }
 },
 "nbformat": 4,
 "nbformat_minor": 5
}
